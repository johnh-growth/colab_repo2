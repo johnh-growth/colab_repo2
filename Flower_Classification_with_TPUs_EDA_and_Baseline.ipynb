{
  "cells": [
    {
      "cell_type": "markdown",
      "metadata": {
        "id": "view-in-github",
        "colab_type": "text"
      },
      "source": [
        "<a href=\"https://colab.research.google.com/github/johnh-growth/colab_repo2/blob/main/Flower_Classification_with_TPUs_EDA_and_Baseline.ipynb\" target=\"_parent\"><img src=\"https://colab.research.google.com/assets/colab-badge.svg\" alt=\"Open In Colab\"/></a>"
      ]
    },
    {
      "source": [
        "# IMPORTANT: SOME KAGGLE DATA SOURCES ARE PRIVATE\n",
        "# RUN THIS CELL IN ORDER TO IMPORT YOUR KAGGLE DATA SOURCES.\n",
        "import kagglehub\n",
        "kagglehub.login()\n"
      ],
      "metadata": {
        "colab": {
          "base_uri": "https://localhost:8080/",
          "height": 84,
          "referenced_widgets": [
            "71ca4778d27e4d7d9ebe8bc7bff181b2",
            "5a49a5d1145b4798862aaac0c2ff8b17",
            "bd4c9cb5d6e243c090a061465ee7c171",
            "b84bb647a2b74d489266420be6320f22",
            "7112f0834ad9439a9ab1b12f44c92b95",
            "5337a43e82cd499590c32c41f2cf8621",
            "70c59dfc145b4245ae9bd58ea6f8e13e",
            "0680a59aa0774bc1a02d8f5db967927b",
            "8a7aa8f982b346ad8e5a785cc0a5fd93",
            "2b702fc9bfb4468fbdd863636da4fe69",
            "e95cda0a9a28474bad02f517b6c60b5a",
            "dcf2c54404e04090b6d91c4418bab275",
            "1c59f2498c774f4aa71e46b42752c9be",
            "9d92292faab04198a30ac899b1fc6590",
            "76038d69408e41a082e187b22468a5a7",
            "ede579207f304b70956b77a1dbfaec3b",
            "862ec89e003e4e4d965d99a737d2b2be",
            "ebbe3befbdc74ab0b9cb2ba78b53afe9",
            "92f97043700b4376a9c871bfb9625ac0",
            "38c6ebbb548a4c45bf3efa2d91adbcf2",
            "8e3a6ecd79794ac9a55620ca393542f6",
            "4aab7fbf476045fd8b3787e155362fd9",
            "e36c0939c15d46b7a55cdcafc1e50cee"
          ]
        },
        "id": "V3kQTTANaw31",
        "outputId": "9a19e05c-e7ed-4850-d858-df3f4f8b7934"
      },
      "cell_type": "code",
      "outputs": [
        {
          "output_type": "display_data",
          "data": {
            "text/plain": [
              "VBox(children=(HTML(value='<center> <img\\nsrc=https://www.kaggle.com/static/images/site-logo.png\\nalt=\\'Kaggle…"
            ],
            "application/vnd.jupyter.widget-view+json": {
              "version_major": 2,
              "version_minor": 0,
              "model_id": "71ca4778d27e4d7d9ebe8bc7bff181b2"
            }
          },
          "metadata": {}
        },
        {
          "output_type": "stream",
          "name": "stdout",
          "text": [
            "Kaggle credentials set.\n",
            "Kaggle credentials successfully validated.\n"
          ]
        }
      ],
      "execution_count": 1
    },
    {
      "source": [
        "# IMPORTANT: RUN THIS CELL IN ORDER TO IMPORT YOUR KAGGLE DATA SOURCES,\n",
        "# THEN FEEL FREE TO DELETE THIS CELL.\n",
        "# NOTE: THIS NOTEBOOK ENVIRONMENT DIFFERS FROM KAGGLE'S PYTHON\n",
        "# ENVIRONMENT SO THERE MAY BE MISSING LIBRARIES USED BY YOUR\n",
        "# NOTEBOOK.\n",
        "\n",
        "tpu_getting_started_path = kagglehub.competition_download('tpu-getting-started')\n",
        "dimitreoliveira_efficientnet_path = kagglehub.dataset_download('dimitreoliveira/efficientnet')\n",
        "\n",
        "print('Data source import complete.')\n"
      ],
      "metadata": {
        "colab": {
          "base_uri": "https://localhost:8080/"
        },
        "id": "pMECo9b_aw32",
        "outputId": "485c92e7-51d9-48ac-b29a-1ca8b7ee2354"
      },
      "cell_type": "code",
      "outputs": [
        {
          "output_type": "stream",
          "name": "stdout",
          "text": [
            "Downloading from https://www.kaggle.com/api/v1/competitions/data/download-all/tpu-getting-started...\n"
          ]
        },
        {
          "output_type": "stream",
          "name": "stderr",
          "text": [
            "100%|██████████| 4.79G/4.79G [01:10<00:00, 72.9MB/s]"
          ]
        },
        {
          "output_type": "stream",
          "name": "stdout",
          "text": [
            "Extracting files...\n"
          ]
        },
        {
          "output_type": "stream",
          "name": "stderr",
          "text": [
            "\n"
          ]
        },
        {
          "output_type": "stream",
          "name": "stdout",
          "text": [
            "Downloading from https://www.kaggle.com/api/v1/datasets/download/dimitreoliveira/efficientnet?dataset_version_number=3...\n"
          ]
        },
        {
          "output_type": "stream",
          "name": "stderr",
          "text": [
            "100%|██████████| 1.50G/1.50G [00:16<00:00, 101MB/s]"
          ]
        },
        {
          "output_type": "stream",
          "name": "stdout",
          "text": [
            "Extracting files...\n"
          ]
        },
        {
          "output_type": "stream",
          "name": "stderr",
          "text": [
            "\n"
          ]
        },
        {
          "output_type": "stream",
          "name": "stdout",
          "text": [
            "Data source import complete.\n"
          ]
        }
      ],
      "execution_count": 2
    },
    {
      "metadata": {
        "id": "zq_OMkpgaw32"
      },
      "cell_type": "markdown",
      "source": [
        "<center><img src=\"https://raw.githubusercontent.com/dimitreOliveira/MachineLearning/master/Kaggle/Flower%20Classification%20with%20TPUs/banner.png\" width=\"1000\"></center>\n",
        "<br>\n",
        "<center><h1>Flower Classification with TPUs - EDA and Baseline</h1></center>\n",
        "<br>\n",
        "\n",
        "#### This an introdutory notebook with a quick EDA using the `tfrecords` and a simple demonstration on how to use deep learning with TPU for image classification.\n",
        "\n",
        "> This was based on the [work of](https://www.kaggle.com/mgornergoogle/getting-started-with-100-flowers-on-tpu) Martin Görner, from the previous competition."
      ]
    },
    {
      "metadata": {
        "id": "isbE48iMaw33"
      },
      "cell_type": "markdown",
      "source": [
        "## Dependencies"
      ]
    },
    {
      "metadata": {
        "_uuid": "8f2839f25d086af736a60e9eeb907d3b93b6e0e5",
        "_cell_guid": "b1076dfc-b9ad-4769-8c92-a6c4dae69d19",
        "trusted": true,
        "_kg_hide-input": true,
        "_kg_hide-output": true,
        "colab": {
          "base_uri": "https://localhost:8080/",
          "height": 385
        },
        "id": "nbkvk1bvaw33",
        "outputId": "e3083a3d-c7d1-4690-a37b-481ca342fb01"
      },
      "cell_type": "code",
      "source": [
        "!pip install --quiet efficientnet\n",
        "\n",
        "import math, os, re, warnings, random\n",
        "import numpy as np\n",
        "import pandas as pd\n",
        "import seaborn as sns\n",
        "from matplotlib import pyplot as plt\n",
        "from kaggle_datasets import KaggleDatasets\n",
        "from sklearn.utils import class_weight\n",
        "from sklearn.metrics import classification_report, confusion_matrix\n",
        "import tensorflow as tf\n",
        "import tensorflow.keras.layers as L\n",
        "from tensorflow.keras import optimizers, applications, Sequential, losses\n",
        "from tensorflow.keras.callbacks import EarlyStopping, ModelCheckpoint, LearningRateScheduler\n",
        "import efficientnet.tfkeras as efn\n",
        "\n",
        "def seed_everything(seed=0):\n",
        "    random.seed(seed)\n",
        "    np.random.seed(seed)\n",
        "    tf.random.set_seed(seed)\n",
        "    os.environ['PYTHONHASHSEED'] = str(seed)\n",
        "    os.environ['TF_DETERMINISTIC_OPS'] = '1'\n",
        "\n",
        "seed = 0\n",
        "seed_everything(seed)\n",
        "warnings.filterwarnings(\"ignore\")"
      ],
      "execution_count": 6,
      "outputs": [
        {
          "output_type": "error",
          "ename": "ModuleNotFoundError",
          "evalue": "No module named 'kaggle_datasets'",
          "traceback": [
            "\u001b[0;31m---------------------------------------------------------------------------\u001b[0m",
            "\u001b[0;31mModuleNotFoundError\u001b[0m                       Traceback (most recent call last)",
            "\u001b[0;32m<ipython-input-6-5fb891e23bdb>\u001b[0m in \u001b[0;36m<cell line: 0>\u001b[0;34m()\u001b[0m\n\u001b[1;32m      6\u001b[0m \u001b[0;32mimport\u001b[0m \u001b[0mseaborn\u001b[0m \u001b[0;32mas\u001b[0m \u001b[0msns\u001b[0m\u001b[0;34m\u001b[0m\u001b[0;34m\u001b[0m\u001b[0m\n\u001b[1;32m      7\u001b[0m \u001b[0;32mfrom\u001b[0m \u001b[0mmatplotlib\u001b[0m \u001b[0;32mimport\u001b[0m \u001b[0mpyplot\u001b[0m \u001b[0;32mas\u001b[0m \u001b[0mplt\u001b[0m\u001b[0;34m\u001b[0m\u001b[0;34m\u001b[0m\u001b[0m\n\u001b[0;32m----> 8\u001b[0;31m \u001b[0;32mfrom\u001b[0m \u001b[0mkaggle_datasets\u001b[0m \u001b[0;32mimport\u001b[0m \u001b[0mKaggleDatasets\u001b[0m\u001b[0;34m\u001b[0m\u001b[0;34m\u001b[0m\u001b[0m\n\u001b[0m\u001b[1;32m      9\u001b[0m \u001b[0;32mfrom\u001b[0m \u001b[0msklearn\u001b[0m\u001b[0;34m.\u001b[0m\u001b[0mutils\u001b[0m \u001b[0;32mimport\u001b[0m \u001b[0mclass_weight\u001b[0m\u001b[0;34m\u001b[0m\u001b[0;34m\u001b[0m\u001b[0m\n\u001b[1;32m     10\u001b[0m \u001b[0;32mfrom\u001b[0m \u001b[0msklearn\u001b[0m\u001b[0;34m.\u001b[0m\u001b[0mmetrics\u001b[0m \u001b[0;32mimport\u001b[0m \u001b[0mclassification_report\u001b[0m\u001b[0;34m,\u001b[0m \u001b[0mconfusion_matrix\u001b[0m\u001b[0;34m\u001b[0m\u001b[0;34m\u001b[0m\u001b[0m\n",
            "\u001b[0;31mModuleNotFoundError\u001b[0m: No module named 'kaggle_datasets'",
            "",
            "\u001b[0;31m---------------------------------------------------------------------------\u001b[0;32m\nNOTE: If your import is failing due to a missing package, you can\nmanually install dependencies using either !pip or !apt.\n\nTo view examples of installing some common dependencies, click the\n\"Open Examples\" button below.\n\u001b[0;31m---------------------------------------------------------------------------\u001b[0m\n"
          ],
          "errorDetails": {
            "actions": [
              {
                "action": "open_url",
                "actionText": "Open Examples",
                "url": "/notebooks/snippets/importing_libraries.ipynb"
              }
            ]
          }
        }
      ]
    },
    {
      "source": [
        "!pip install --quiet kaggle\n"
      ],
      "cell_type": "code",
      "metadata": {
        "id": "-cEhMFfuefCe"
      },
      "execution_count": 5,
      "outputs": []
    },
    {
      "metadata": {
        "id": "K0tugz2Saw33"
      },
      "cell_type": "markdown",
      "source": [
        "### TPU configuration"
      ]
    },
    {
      "metadata": {
        "trusted": true,
        "_kg_hide-input": true,
        "id": "ZBfqpHuWaw33"
      },
      "cell_type": "code",
      "source": [
        "# TPU or GPU detection\n",
        "# Detect hardware, return appropriate distribution strategy\n",
        "try:\n",
        "    tpu = tf.distribute.cluster_resolver.TPUClusterResolver()\n",
        "    print(f'Running on TPU {tpu.master()}')\n",
        "except ValueError:\n",
        "    tpu = None\n",
        "\n",
        "if tpu:\n",
        "    tf.config.experimental_connect_to_cluster(tpu)\n",
        "    tf.tpu.experimental.initialize_tpu_system(tpu)\n",
        "    strategy = tf.distribute.experimental.TPUStrategy(tpu)\n",
        "else:\n",
        "    strategy = tf.distribute.get_strategy()\n",
        "\n",
        "AUTO = tf.data.experimental.AUTOTUNE\n",
        "REPLICAS = strategy.num_replicas_in_sync\n",
        "print(f'REPLICAS: {REPLICAS}')"
      ],
      "execution_count": null,
      "outputs": []
    },
    {
      "metadata": {
        "id": "Q7igrrjgaw34"
      },
      "cell_type": "markdown",
      "source": [
        "# Model parameters"
      ]
    },
    {
      "metadata": {
        "trusted": true,
        "id": "di7xPc5Baw34"
      },
      "cell_type": "code",
      "source": [
        "BATCH_SIZE = 16 * REPLICAS\n",
        "WARMUP_EPOCHS = 3\n",
        "WARMUP_LEARNING_RATE = 1e-4 * REPLICAS\n",
        "EPOCHS = 30\n",
        "LEARNING_RATE = 3e-5 * REPLICAS\n",
        "HEIGHT = 512\n",
        "WIDTH = 512\n",
        "CHANNELS = 3\n",
        "N_CLASSES = 104\n",
        "ES_PATIENCE = 5"
      ],
      "execution_count": null,
      "outputs": []
    },
    {
      "metadata": {
        "trusted": true,
        "id": "04Z6j3sQaw34"
      },
      "cell_type": "code",
      "source": [
        "model_path = f'model_{HEIGHT}x{WIDTH}.h5'\n",
        "\n",
        "GCS_PATH = KaggleDatasets().get_gcs_path('tpu-getting-started') + f'/tfrecords-jpeg-{HEIGHT}x{WIDTH}'\n",
        "\n",
        "TRAINING_FILENAMES = tf.io.gfile.glob(GCS_PATH + '/train/*.tfrec')\n",
        "VALIDATION_FILENAMES = tf.io.gfile.glob(GCS_PATH + '/val/*.tfrec')\n",
        "TEST_FILENAMES = tf.io.gfile.glob(GCS_PATH + '/test/*.tfrec')\n",
        "\n",
        "CLASSES = [\n",
        "    'pink primrose', 'hard-leaved pocket orchid', 'canterbury bells', 'sweet pea',\n",
        "    'wild geranium', 'tiger lily', 'moon orchid', 'bird of paradise', 'monkshood',\n",
        "    'globe thistle', 'snapdragon', \"colt's foot\", 'king protea', 'spear thistle',\n",
        "    'yellow iris', 'globe-flower', 'purple coneflower', 'peruvian lily',\n",
        "    'balloon flower', 'giant white arum lily', 'fire lily', 'pincushion flower',\n",
        "    'fritillary', 'red ginger', 'grape hyacinth', 'corn poppy',\n",
        "    'prince of wales feathers', 'stemless gentian', 'artichoke', 'sweet william',\n",
        "    'carnation', 'garden phlox', 'love in the mist', 'cosmos',  'alpine sea holly',\n",
        "    'ruby-lipped cattleya', 'cape flower', 'great masterwort',  'siam tulip',\n",
        "    'lenten rose', 'barberton daisy', 'daffodil',  'sword lily', 'poinsettia',\n",
        "    'bolero deep blue',  'wallflower', 'marigold', 'buttercup', 'daisy',\n",
        "    'common dandelion', 'petunia', 'wild pansy', 'primula',  'sunflower',\n",
        "    'lilac hibiscus', 'bishop of llandaff', 'gaura',  'geranium', 'orange dahlia',\n",
        "    'pink-yellow dahlia', 'cautleya spicata',  'japanese anemone',\n",
        "    'black-eyed susan', 'silverbush', 'californian poppy',  'osteospermum',\n",
        "    'spring crocus', 'iris', 'windflower',  'tree poppy', 'gazania', 'azalea',\n",
        "    'water lily',  'rose', 'thorn apple', 'morning glory', 'passion flower',\n",
        "    'lotus', 'toad lily', 'anthurium', 'frangipani',  'clematis', 'hibiscus',\n",
        "    'columbine', 'desert-rose', 'tree mallow', 'magnolia', 'cyclamen ',\n",
        "    'watercress',  'canna lily', 'hippeastrum ', 'bee balm', 'pink quill',\n",
        "    'foxglove', 'bougainvillea', 'camellia', 'mallow',  'mexican petunia',\n",
        "    'bromelia', 'blanket flower', 'trumpet creeper',  'blackberry lily',\n",
        "    'common tulip', 'wild rose']"
      ],
      "execution_count": null,
      "outputs": []
    },
    {
      "metadata": {
        "_uuid": "d629ff2d2480ee46fbb7e2d37f6b5fab8052498a",
        "_cell_guid": "79c7e3d0-c299-4dcb-8224-4455121ee9b0",
        "trusted": true,
        "_kg_hide-input": true,
        "id": "piijHeKDaw35"
      },
      "cell_type": "code",
      "source": [
        "# Datasets utility functions\n",
        "AUTO = tf.data.experimental.AUTOTUNE # instructs the API to read from multiple files if available.\n",
        "\n",
        "def decode_image(image_data):\n",
        "    image = tf.image.decode_jpeg(image_data, channels=3)\n",
        "    image = tf.cast(image, tf.float32) / 255.0\n",
        "    image = tf.reshape(image, [HEIGHT, WIDTH, 3])\n",
        "    return image\n",
        "\n",
        "def read_labeled_tfrecord(example):\n",
        "    LABELED_TFREC_FORMAT = {\n",
        "        \"image\": tf.io.FixedLenFeature([], tf.string), # tf.string means bytestring\n",
        "        \"class\": tf.io.FixedLenFeature([], tf.int64),  # shape [] means single element\n",
        "    }\n",
        "    example = tf.io.parse_single_example(example, LABELED_TFREC_FORMAT)\n",
        "    image = decode_image(example['image'])\n",
        "    label = tf.cast(example['class'], tf.int32)\n",
        "    return image, label\n",
        "\n",
        "def read_unlabeled_tfrecord(example):\n",
        "    UNLABELED_TFREC_FORMAT = {\n",
        "        \"image\": tf.io.FixedLenFeature([], tf.string), # tf.string means bytestring\n",
        "        \"id\": tf.io.FixedLenFeature([], tf.string),  # shape [] means single element\n",
        "        # class is missing, this competitions's challenge is to predict flower classes for the test dataset\n",
        "    }\n",
        "    example = tf.io.parse_single_example(example, UNLABELED_TFREC_FORMAT)\n",
        "    image = decode_image(example['image'])\n",
        "    idnum = example['id']\n",
        "    return image, idnum # returns a dataset of image(s)\n",
        "\n",
        "def load_dataset(filenames, labeled=True, ordered=False):\n",
        "    ignore_order = tf.data.Options()\n",
        "    if not ordered:\n",
        "        ignore_order.experimental_deterministic = False # disable order, increase speed\n",
        "\n",
        "    dataset = tf.data.TFRecordDataset(filenames, num_parallel_reads=AUTO) # automatically interleaves reads from multiple files\n",
        "    dataset = dataset.with_options(ignore_order) # uses data as soon as it streams in, rather than in its original order\n",
        "    dataset = dataset.map(read_labeled_tfrecord if labeled else read_unlabeled_tfrecord, num_parallel_calls=AUTO)\n",
        "    # returns a dataset of (image, label) pairs if labeled=True or (image, id) pairs if labeled=False\n",
        "    return dataset\n",
        "\n",
        "def data_augment(image, label):\n",
        "    crop_size = tf.random.uniform([], int(HEIGHT*.7), HEIGHT, dtype=tf.int32)\n",
        "\n",
        "    image = tf.image.random_flip_left_right(image)\n",
        "    image = tf.image.random_flip_up_down(image)\n",
        "    image = tf.image.random_saturation(image, lower=0, upper=2)\n",
        "\n",
        "#     image = tf.image.random_saturation(image, lower=0, upper=2)\n",
        "#     image = tf.image.random_contrast(image, lower=.8, upper=2)\n",
        "#     image = tf.image.random_brightness(image, max_delta=.2)\n",
        "#     image = tf.image.adjust_gamma(image, gamma=.6)\n",
        "\n",
        "    image = tf.image.random_crop(image, size=[crop_size, crop_size, CHANNELS])\n",
        "    image = tf.image.resize(image, size=[HEIGHT, WIDTH])\n",
        "\n",
        "    return image, label\n",
        "\n",
        "def get_training_dataset():\n",
        "    dataset = load_dataset(TRAINING_FILENAMES, labeled=True)\n",
        "    dataset = dataset.map(data_augment, num_parallel_calls=AUTO)\n",
        "    dataset = dataset.repeat() # the training dataset must repeat for several epochs\n",
        "    dataset = dataset.shuffle(2048)\n",
        "    dataset = dataset.batch(BATCH_SIZE)\n",
        "    dataset = dataset.prefetch(AUTO) # prefetch next batch while training (autotune prefetch buffer size)\n",
        "    return dataset\n",
        "\n",
        "def get_training_dataset_preview(ordered=True):\n",
        "    dataset = load_dataset(TRAINING_FILENAMES, labeled=True, ordered=ordered)\n",
        "    dataset = dataset.batch(BATCH_SIZE)\n",
        "    dataset = dataset.cache()\n",
        "    dataset = dataset.prefetch(AUTO)\n",
        "    return dataset\n",
        "\n",
        "def get_validation_dataset(ordered=False):\n",
        "    dataset = load_dataset(VALIDATION_FILENAMES, labeled=True, ordered=ordered)\n",
        "    dataset = dataset.batch(BATCH_SIZE)\n",
        "    dataset = dataset.cache()\n",
        "    dataset = dataset.prefetch(AUTO)\n",
        "    return dataset\n",
        "\n",
        "def get_test_dataset(ordered=False):\n",
        "    dataset = load_dataset(TEST_FILENAMES, labeled=False, ordered=ordered)\n",
        "    dataset = dataset.batch(BATCH_SIZE)\n",
        "    dataset = dataset.prefetch(AUTO)\n",
        "    return dataset\n",
        "\n",
        "def count_data_items(filenames):\n",
        "    # the number of data items is written in the name of the .tfrec files, i.e. flowers00-230.tfrec = 230 data items\n",
        "    n = [int(re.compile(r\"-([0-9]*)\\.\").search(filename).group(1)) for filename in filenames]\n",
        "    return np.sum(n)"
      ],
      "execution_count": null,
      "outputs": []
    },
    {
      "metadata": {
        "_kg_hide-input": true,
        "trusted": true,
        "id": "ArIlQo-2aw35"
      },
      "cell_type": "code",
      "source": [
        "# Visualization utility functions\n",
        "np.set_printoptions(threshold=15, linewidth=80)\n",
        "\n",
        "def batch_to_numpy_images_and_labels(data):\n",
        "    images, labels = data\n",
        "    numpy_images = images.numpy()\n",
        "    numpy_labels = labels.numpy()\n",
        "    if numpy_labels.dtype == object: # binary string in this case, these are image ID strings\n",
        "        numpy_labels = [None for _ in enumerate(numpy_images)]\n",
        "    # If no labels, only image IDs, return None for labels (this is the case for test data)\n",
        "    return numpy_images, numpy_labels\n",
        "\n",
        "def title_from_label_and_target(label, correct_label):\n",
        "    if correct_label is None:\n",
        "        return CLASSES[label], True\n",
        "    correct = (label == correct_label)\n",
        "    return \"{} [{}{}{}]\".format(CLASSES[label], 'OK' if correct else 'NO', u\"\\u2192\" if not correct else '',\n",
        "                                CLASSES[correct_label] if not correct else ''), correct\n",
        "\n",
        "def display_one_flower(image, title, subplot, red=False, titlesize=16):\n",
        "    plt.subplot(*subplot)\n",
        "    plt.axis('off')\n",
        "    plt.imshow(image)\n",
        "    if len(title) > 0:\n",
        "        plt.title(title, fontsize=int(titlesize) if not red else int(titlesize/1.2), color='red' if red else 'black', fontdict={'verticalalignment':'center'}, pad=int(titlesize/1.5))\n",
        "    return (subplot[0], subplot[1], subplot[2]+1)\n",
        "\n",
        "def display_batch_of_images(databatch, predictions=None):\n",
        "    \"\"\"This will work with:\n",
        "    display_batch_of_images(images)\n",
        "    display_batch_of_images(images, predictions)\n",
        "    display_batch_of_images((images, labels))\n",
        "    display_batch_of_images((images, labels), predictions)\n",
        "    \"\"\"\n",
        "    # data\n",
        "    images, labels = batch_to_numpy_images_and_labels(databatch)\n",
        "    if labels is None:\n",
        "        labels = [None for _ in enumerate(images)]\n",
        "\n",
        "    # auto-squaring: this will drop data that does not fit into square or square-ish rectangle\n",
        "    rows = int(math.sqrt(len(images)))\n",
        "    cols = len(images)//rows\n",
        "\n",
        "    # size and spacing\n",
        "    FIGSIZE = 13.0\n",
        "    SPACING = 0.1\n",
        "    subplot=(rows,cols,1)\n",
        "    if rows < cols:\n",
        "        plt.figure(figsize=(FIGSIZE,FIGSIZE/cols*rows))\n",
        "    else:\n",
        "        plt.figure(figsize=(FIGSIZE/rows*cols,FIGSIZE))\n",
        "\n",
        "    # display\n",
        "    for i, (image, label) in enumerate(zip(images[:rows*cols], labels[:rows*cols])):\n",
        "        title = '' if label is None else CLASSES[label]\n",
        "        correct = True\n",
        "        if predictions is not None:\n",
        "            title, correct = title_from_label_and_target(predictions[i], label)\n",
        "        dynamic_titlesize = FIGSIZE*SPACING/max(rows,cols)*40+3 # magic formula tested to work from 1x1 to 10x10 images\n",
        "        subplot = display_one_flower(image, title, subplot, not correct, titlesize=dynamic_titlesize)\n",
        "\n",
        "    #layout\n",
        "    plt.tight_layout()\n",
        "    if label is None and predictions is None:\n",
        "        plt.subplots_adjust(wspace=0, hspace=0)\n",
        "    else:\n",
        "        plt.subplots_adjust(wspace=SPACING, hspace=SPACING)\n",
        "    plt.show()\n",
        "\n",
        "# Visualize model predictions\n",
        "def dataset_to_numpy_util(dataset, N):\n",
        "    dataset = dataset.unbatch().batch(N)\n",
        "    for images, labels in dataset:\n",
        "        numpy_images = images.numpy()\n",
        "        numpy_labels = labels.numpy()\n",
        "        break;\n",
        "    return numpy_images, numpy_labels\n",
        "\n",
        "def title_from_label_and_target(label, correct_label):\n",
        "    label = np.argmax(label, axis=-1)\n",
        "    correct = (label == correct_label)\n",
        "    return \"{} [{}{}{}]\".format(CLASSES[label], str(correct), ', shoud be ' if not correct else '',\n",
        "                                CLASSES[correct_label] if not correct else ''), correct\n",
        "\n",
        "def display_one_flower_eval(image, title, subplot, red=False):\n",
        "    plt.subplot(subplot)\n",
        "    plt.axis('off')\n",
        "    plt.imshow(image)\n",
        "    plt.title(title, fontsize=14, color='red' if red else 'black')\n",
        "    return subplot+1\n",
        "\n",
        "def display_9_images_with_predictions(images, predictions, labels):\n",
        "    subplot=331\n",
        "    plt.figure(figsize=(13,13))\n",
        "    for i, image in enumerate(images):\n",
        "        title, correct = title_from_label_and_target(predictions[i], labels[i])\n",
        "        subplot = display_one_flower_eval(image, title, subplot, not correct)\n",
        "        if i >= 8:\n",
        "            break;\n",
        "\n",
        "    plt.tight_layout()\n",
        "    plt.subplots_adjust(wspace=0.1, hspace=0.1)\n",
        "    plt.show()"
      ],
      "execution_count": null,
      "outputs": []
    },
    {
      "metadata": {
        "id": "6Z9SPjHBaw35"
      },
      "cell_type": "markdown",
      "source": [
        "# EDA\n",
        "\n",
        "## About the datasets"
      ]
    },
    {
      "metadata": {
        "_kg_hide-input": true,
        "trusted": true,
        "id": "968Go99Caw35"
      },
      "cell_type": "code",
      "source": [
        "# Train data\n",
        "NUM_TRAINING_IMAGES = count_data_items(TRAINING_FILENAMES)\n",
        "train_dataset = get_training_dataset_preview(ordered=True)\n",
        "y_train = next(iter(train_dataset.unbatch().map(lambda image, label: label).batch(NUM_TRAINING_IMAGES))).numpy()\n",
        "print(f'Number of training images {NUM_TRAINING_IMAGES}')\n",
        "\n",
        "# Validation data\n",
        "NUM_VALIDATION_IMAGES = count_data_items(VALIDATION_FILENAMES)\n",
        "valid_dataset = get_validation_dataset(ordered=True)\n",
        "y_valid = next(iter(valid_dataset.unbatch().map(lambda image, label: label).batch(NUM_VALIDATION_IMAGES))).numpy()\n",
        "print(f'Number of validation images {NUM_VALIDATION_IMAGES}')\n",
        "\n",
        "# Test data\n",
        "NUM_TEST_IMAGES = count_data_items(TEST_FILENAMES)\n",
        "print(f'Number of test images {NUM_TEST_IMAGES}')\n",
        "test_dataset = get_test_dataset(ordered=True)"
      ],
      "execution_count": null,
      "outputs": []
    },
    {
      "metadata": {
        "id": "8OtbGwBiaw36"
      },
      "cell_type": "markdown",
      "source": [
        "## First let's look at some samples from each set\n",
        "\n",
        "### Train samples"
      ]
    },
    {
      "metadata": {
        "_kg_hide-input": true,
        "trusted": true,
        "id": "SDRyvVznaw36"
      },
      "cell_type": "code",
      "source": [
        "display_batch_of_images(next(iter(train_dataset.unbatch().batch(20))))"
      ],
      "execution_count": null,
      "outputs": []
    },
    {
      "metadata": {
        "id": "LGcWGkpBaw36"
      },
      "cell_type": "markdown",
      "source": [
        "### Validation samples"
      ]
    },
    {
      "metadata": {
        "_kg_hide-input": true,
        "trusted": true,
        "id": "NCsAP7jKaw36"
      },
      "cell_type": "code",
      "source": [
        "display_batch_of_images(next(iter(valid_dataset.unbatch().batch(20))))"
      ],
      "execution_count": null,
      "outputs": []
    },
    {
      "metadata": {
        "id": "DBwisQYRaw36"
      },
      "cell_type": "markdown",
      "source": [
        "### Test samples"
      ]
    },
    {
      "metadata": {
        "_kg_hide-input": true,
        "trusted": true,
        "id": "traJlTIgaw36"
      },
      "cell_type": "code",
      "source": [
        "display_batch_of_images(next(iter(test_dataset.unbatch().batch(20))))"
      ],
      "execution_count": null,
      "outputs": []
    },
    {
      "metadata": {
        "id": "TaAzc6mKaw36"
      },
      "cell_type": "markdown",
      "source": [
        "The important thing here is that the image quality seems to be very consistent over the datasets, this will make things easier for the model to generalize, also dataset seems to be pretty diverse in terms of flower types, but we will look into this in more details."
      ]
    },
    {
      "metadata": {
        "id": "atVkKf-iaw36"
      },
      "cell_type": "markdown",
      "source": [
        "## Label distribution"
      ]
    },
    {
      "metadata": {
        "_kg_hide-input": true,
        "trusted": true,
        "id": "cc6gnQCoaw36"
      },
      "cell_type": "code",
      "source": [
        "train_agg = np.asarray([[label, (y_train == index).sum()] for index, label in enumerate(CLASSES)])\n",
        "valid_agg = np.asarray([[label, (y_valid == index).sum()] for index, label in enumerate(CLASSES)])\n",
        "\n",
        "fig, (ax1, ax2) = plt.subplots(2, 1, figsize=(24, 64))\n",
        "\n",
        "ax1 = sns.barplot(x=train_agg[...,1], y=train_agg[...,0], order=CLASSES, ax=ax1)\n",
        "ax1.set_title('Train', fontsize=30)\n",
        "ax1.tick_params(labelsize=16)\n",
        "\n",
        "ax2 = sns.barplot(x=valid_agg[...,1], y=valid_agg[...,0], order=CLASSES, ax=ax2)\n",
        "ax2.set_title('Validation', fontsize=30)\n",
        "ax2.tick_params(labelsize=16)\n",
        "\n",
        "plt.show()"
      ],
      "execution_count": null,
      "outputs": []
    },
    {
      "metadata": {
        "id": "enew_6XYaw36"
      },
      "cell_type": "markdown",
      "source": [
        "As we can see the datasets are largely unbalanced, but the train and validation sets have a similar distribution."
      ]
    },
    {
      "metadata": {
        "id": "3EaKZfLtaw36"
      },
      "cell_type": "markdown",
      "source": [
        "# Model"
      ]
    },
    {
      "metadata": {
        "trusted": true,
        "id": "Jwf8EEm0aw36"
      },
      "cell_type": "code",
      "source": [
        "def create_model(input_shape, N_CLASSES):\n",
        "    base_model = efn.EfficientNetB6(weights='/kaggle/input/efficientnet/efficientnet-b6_noisy-student_notop.h5',\n",
        "                                    include_top=False,\n",
        "                                    input_shape=input_shape)\n",
        "\n",
        "    base_model.trainable = False # Freeze layers\n",
        "    model = tf.keras.Sequential([\n",
        "        base_model,\n",
        "        L.GlobalAveragePooling2D(),\n",
        "        L.Dense(N_CLASSES, activation='softmax')\n",
        "    ])\n",
        "\n",
        "    return model"
      ],
      "execution_count": null,
      "outputs": []
    },
    {
      "metadata": {
        "id": "InZPjy9paw36"
      },
      "cell_type": "markdown",
      "source": [
        "# Warmup top layers"
      ]
    },
    {
      "metadata": {
        "trusted": true,
        "id": "SXV3Xdulaw37"
      },
      "cell_type": "code",
      "source": [
        "with strategy.scope():\n",
        "    model = create_model((None, None, CHANNELS), N_CLASSES)\n",
        "\n",
        "metric_list = ['sparse_categorical_accuracy']\n",
        "\n",
        "optimizer = optimizers.Adam(lr=WARMUP_LEARNING_RATE)\n",
        "model.compile(optimizer=optimizer,\n",
        "              loss=losses.SparseCategoricalCrossentropy(),\n",
        "              metrics=metric_list)\n",
        "model.summary()"
      ],
      "execution_count": null,
      "outputs": []
    },
    {
      "metadata": {
        "_kg_hide-output": true,
        "trusted": true,
        "_kg_hide-input": false,
        "id": "L7wDT983aw37"
      },
      "cell_type": "code",
      "source": [
        "STEPS_PER_EPOCH = NUM_TRAINING_IMAGES // BATCH_SIZE\n",
        "warmup_history = model.fit(x=get_training_dataset(),\n",
        "                           steps_per_epoch=STEPS_PER_EPOCH,\n",
        "                           validation_data=get_validation_dataset(),\n",
        "                           epochs=WARMUP_EPOCHS,\n",
        "                           verbose=2).history"
      ],
      "execution_count": null,
      "outputs": []
    },
    {
      "metadata": {
        "id": "KufIsJI3aw37"
      },
      "cell_type": "markdown",
      "source": [
        "### Learning rate schedule"
      ]
    },
    {
      "metadata": {
        "_kg_hide-input": true,
        "trusted": true,
        "id": "tVAUlZxIaw37"
      },
      "cell_type": "code",
      "source": [
        "LR_START = 0.00000001\n",
        "LR_MIN = 0.000001\n",
        "LR_MAX = LEARNING_RATE\n",
        "LR_RAMPUP_EPOCHS = 3\n",
        "LR_SUSTAIN_EPOCHS = 0\n",
        "LR_EXP_DECAY = .8\n",
        "\n",
        "def lrfn(epoch):\n",
        "    if epoch < LR_RAMPUP_EPOCHS:\n",
        "        lr = (LR_MAX - LR_START) / LR_RAMPUP_EPOCHS * epoch + LR_START\n",
        "    elif epoch < LR_RAMPUP_EPOCHS + LR_SUSTAIN_EPOCHS:\n",
        "        lr = LR_MAX\n",
        "    else:\n",
        "        lr = (LR_MAX - LR_MIN) * LR_EXP_DECAY**(epoch - LR_RAMPUP_EPOCHS - LR_SUSTAIN_EPOCHS) + LR_MIN\n",
        "    return lr\n",
        "\n",
        "rng = [i for i in range(EPOCHS)]\n",
        "y = [lrfn(x) for x in rng]\n",
        "\n",
        "sns.set(style='whitegrid')\n",
        "fig, ax = plt.subplots(figsize=(20, 6))\n",
        "plt.plot(rng, y)\n",
        "\n",
        "print(f'{EPOCHS} total epochs and {NUM_TRAINING_IMAGES//BATCH_SIZE} steps per epoch')\n",
        "print(f'Learning rate schedule: {y[0]:.3g} to {max(y):.3g} to {y[-1]:.3g}')"
      ],
      "execution_count": null,
      "outputs": []
    },
    {
      "metadata": {
        "id": "6AIeRwDYaw37"
      },
      "cell_type": "markdown",
      "source": [
        "# Fine-tune all layers"
      ]
    },
    {
      "metadata": {
        "trusted": true,
        "id": "wUAmpTqXaw37"
      },
      "cell_type": "code",
      "source": [
        "for layer in model.layers:\n",
        "    layer.trainable = True # Unfreeze layers\n",
        "\n",
        "checkpoint = ModelCheckpoint(model_path, monitor='val_loss', mode='min', save_best_only=True)\n",
        "es = EarlyStopping(monitor='val_loss', mode='min', patience=ES_PATIENCE,\n",
        "                   restore_best_weights=True, verbose=1)\n",
        "lr_callback = LearningRateScheduler(lrfn, verbose=0)\n",
        "\n",
        "callback_list = [checkpoint, es, lr_callback]\n",
        "\n",
        "optimizer = optimizers.Adam(lr=LEARNING_RATE)\n",
        "model.compile(optimizer=optimizer,\n",
        "              loss='sparse_categorical_crossentropy',\n",
        "              metrics=metric_list)\n",
        "model.summary()"
      ],
      "execution_count": null,
      "outputs": []
    },
    {
      "metadata": {
        "trusted": true,
        "_kg_hide-input": false,
        "_kg_hide-output": true,
        "id": "n4NLLNoBaw37"
      },
      "cell_type": "code",
      "source": [
        "history = model.fit(x=get_training_dataset(),\n",
        "                    steps_per_epoch=STEPS_PER_EPOCH,\n",
        "                    validation_data=get_validation_dataset(),\n",
        "                    callbacks=callback_list,\n",
        "                    epochs=EPOCHS,\n",
        "                    verbose=2).history"
      ],
      "execution_count": null,
      "outputs": []
    },
    {
      "metadata": {
        "id": "V5LQJczvaw37"
      },
      "cell_type": "markdown",
      "source": [
        "## Model loss graph"
      ]
    },
    {
      "metadata": {
        "trusted": true,
        "_kg_hide-input": true,
        "id": "d4htB5draw37"
      },
      "cell_type": "code",
      "source": [
        "def plot_metrics(history, metric_list):\n",
        "    fig, axes = plt.subplots(len(metric_list), 1, sharex='col', figsize=(24, 12))\n",
        "    axes = axes.flatten()\n",
        "\n",
        "    for index, metric in enumerate(metric_list):\n",
        "        axes[index].plot(history[metric], label=f'Train {metric}')\n",
        "        axes[index].plot(history[f'val_{metric}'], label=f'Validation {metric}')\n",
        "        axes[index].legend(loc='best', fontsize=16)\n",
        "        axes[index].set_title(metric)\n",
        "\n",
        "    plt.xlabel('Epochs', fontsize=16)\n",
        "    sns.despine()\n",
        "    plt.show()\n",
        "\n",
        "plot_metrics(history, metric_list=['loss', 'sparse_categorical_accuracy'])"
      ],
      "execution_count": null,
      "outputs": []
    },
    {
      "metadata": {
        "id": "2mVfv4m7aw38"
      },
      "cell_type": "markdown",
      "source": [
        "# Model evaluation\n",
        "\n",
        "## Train set"
      ]
    },
    {
      "metadata": {
        "_kg_hide-input": true,
        "trusted": true,
        "id": "9p-t5becaw38"
      },
      "cell_type": "code",
      "source": [
        "x_train = train_dataset.map(lambda image, label: image)\n",
        "train_preds = model.predict(x_train)\n",
        "train_preds = np.argmax(train_preds, axis=-1)\n",
        "\n",
        "print(classification_report(y_train, train_preds, target_names=CLASSES))"
      ],
      "execution_count": null,
      "outputs": []
    },
    {
      "metadata": {
        "id": "Dl0kObblaw38"
      },
      "cell_type": "markdown",
      "source": [
        "## Validation set"
      ]
    },
    {
      "metadata": {
        "_kg_hide-input": true,
        "trusted": true,
        "id": "ep4eCpA-aw3-"
      },
      "cell_type": "code",
      "source": [
        "x_valid = valid_dataset.map(lambda image, label: image)\n",
        "valid_preds = model.predict(x_valid)\n",
        "valid_preds = np.argmax(valid_preds, axis=-1)\n",
        "\n",
        "print(classification_report(y_valid, valid_preds, target_names=CLASSES))"
      ],
      "execution_count": null,
      "outputs": []
    },
    {
      "metadata": {
        "id": "mmhz8sdXaw3_"
      },
      "cell_type": "markdown",
      "source": [
        "# Confusion matrix\n",
        "\n",
        "## Train\n",
        "\n",
        "I have split confusion matrices into 3 parts to make it clearer, the first plot has classes 1 from 34, the second plot 35 to 69 and the third has the remaining ones."
      ]
    },
    {
      "metadata": {
        "trusted": true,
        "_kg_hide-input": true,
        "id": "Uk5NZGdWaw3_"
      },
      "cell_type": "code",
      "source": [
        "fig, ax = plt.subplots(1, 1, figsize=(20, 45))\n",
        "train_cfn_matrix = confusion_matrix(y_train, train_preds, labels=range(len(CLASSES)))\n",
        "train_cfn_matrix = (train_cfn_matrix.T / train_cfn_matrix.sum(axis=1)).T\n",
        "train_df_cm = pd.DataFrame(train_cfn_matrix, index=CLASSES, columns=CLASSES)\n",
        "ax = sns.heatmap(train_df_cm, cmap='Blues').set_title('Train', fontsize=30)\n",
        "plt.show()"
      ],
      "execution_count": null,
      "outputs": []
    },
    {
      "metadata": {
        "id": "-PyiQjEvaw3_"
      },
      "cell_type": "markdown",
      "source": [
        "## Validation"
      ]
    },
    {
      "metadata": {
        "trusted": true,
        "_kg_hide-input": true,
        "id": "bPgqtZ6yaw3_"
      },
      "cell_type": "code",
      "source": [
        "fig, ax = plt.subplots(1, 1, figsize=(20, 45))\n",
        "valid_cfn_matrix = confusion_matrix(y_valid, valid_preds, labels=range(len(CLASSES)))\n",
        "valid_cfn_matrix = (valid_cfn_matrix.T / valid_cfn_matrix.sum(axis=1)).T\n",
        "valid_df_cm = pd.DataFrame(valid_cfn_matrix, index=CLASSES, columns=CLASSES)\n",
        "ax = sns.heatmap(valid_df_cm, cmap=sns.cubehelix_palette(8)).set_title('Validation', fontsize=30)\n",
        "plt.show()"
      ],
      "execution_count": null,
      "outputs": []
    },
    {
      "metadata": {
        "id": "HXBaVUgIaw3_"
      },
      "cell_type": "markdown",
      "source": [
        "# Visualize predictions\n",
        "\n",
        "## Train set"
      ]
    },
    {
      "metadata": {
        "_kg_hide-input": true,
        "trusted": true,
        "id": "V9kp4cw6aw3_"
      },
      "cell_type": "code",
      "source": [
        "x_train_samp, y_train_samp = dataset_to_numpy_util(train_dataset, 9)\n",
        "train_samp_preds = model.predict(x_train_samp, batch_size=9)\n",
        "display_9_images_with_predictions(x_train_samp, train_samp_preds, y_train_samp)"
      ],
      "execution_count": null,
      "outputs": []
    },
    {
      "metadata": {
        "id": "ddUh2_igaw3_"
      },
      "cell_type": "markdown",
      "source": [
        "## Validation set"
      ]
    },
    {
      "metadata": {
        "_kg_hide-input": true,
        "trusted": true,
        "id": "qrQ_ZpFbaw3_"
      },
      "cell_type": "code",
      "source": [
        "x_valid_samp, y_valid_samp = dataset_to_numpy_util(valid_dataset, 9)\n",
        "valid_samp_preds = model.predict(x_valid_samp, batch_size=9)\n",
        "display_9_images_with_predictions(x_valid_samp, valid_samp_preds, y_valid_samp)"
      ],
      "execution_count": null,
      "outputs": []
    },
    {
      "metadata": {
        "id": "BqIt2kvpaw3_"
      },
      "cell_type": "markdown",
      "source": [
        "# Test set predictions"
      ]
    },
    {
      "metadata": {
        "trusted": true,
        "id": "3DTA2FL_aw3_"
      },
      "cell_type": "code",
      "source": [
        "x_test = test_dataset.map(lambda image, idnum: image)\n",
        "test_preds = model.predict(x_test)\n",
        "test_preds = np.argmax(test_preds, axis=-1)"
      ],
      "execution_count": null,
      "outputs": []
    },
    {
      "metadata": {
        "trusted": true,
        "_kg_hide-input": true,
        "id": "Y3UNIoZgaw3_"
      },
      "cell_type": "code",
      "source": [
        "test_ids_ds = test_dataset.map(lambda image, idnum: idnum).unbatch()\n",
        "test_ids = next(iter(test_ids_ds.batch(NUM_TEST_IMAGES))).numpy().astype('U')\n",
        "\n",
        "submission = pd.DataFrame(test_ids, columns=['id'])\n",
        "submission['label'] = test_preds\n",
        "submission.to_csv('submission.csv', index=False)\n",
        "display(submission.head(10))"
      ],
      "execution_count": null,
      "outputs": []
    }
  ],
  "metadata": {
    "kernelspec": {
      "language": "python",
      "display_name": "Python 3",
      "name": "python3"
    },
    "language_info": {
      "pygments_lexer": "ipython3",
      "nbconvert_exporter": "python",
      "version": "3.6.4",
      "file_extension": ".py",
      "codemirror_mode": {
        "name": "ipython",
        "version": 3
      },
      "name": "python",
      "mimetype": "text/x-python"
    },
    "colab": {
      "name": "Flower Classification with TPUs - EDA and Baseline",
      "provenance": [],
      "include_colab_link": true
    },
    "widgets": {
      "application/vnd.jupyter.widget-state+json": {
        "71ca4778d27e4d7d9ebe8bc7bff181b2": {
          "model_module": "@jupyter-widgets/controls",
          "model_name": "VBoxModel",
          "model_module_version": "1.5.0",
          "state": {
            "_dom_classes": [],
            "_model_module": "@jupyter-widgets/controls",
            "_model_module_version": "1.5.0",
            "_model_name": "VBoxModel",
            "_view_count": null,
            "_view_module": "@jupyter-widgets/controls",
            "_view_module_version": "1.5.0",
            "_view_name": "VBoxView",
            "box_style": "",
            "children": [
              "IPY_MODEL_8e3a6ecd79794ac9a55620ca393542f6"
            ],
            "layout": "IPY_MODEL_70c59dfc145b4245ae9bd58ea6f8e13e"
          }
        },
        "5a49a5d1145b4798862aaac0c2ff8b17": {
          "model_module": "@jupyter-widgets/controls",
          "model_name": "HTMLModel",
          "model_module_version": "1.5.0",
          "state": {
            "_dom_classes": [],
            "_model_module": "@jupyter-widgets/controls",
            "_model_module_version": "1.5.0",
            "_model_name": "HTMLModel",
            "_view_count": null,
            "_view_module": "@jupyter-widgets/controls",
            "_view_module_version": "1.5.0",
            "_view_name": "HTMLView",
            "description": "",
            "description_tooltip": null,
            "layout": "IPY_MODEL_0680a59aa0774bc1a02d8f5db967927b",
            "placeholder": "​",
            "style": "IPY_MODEL_8a7aa8f982b346ad8e5a785cc0a5fd93",
            "value": "<center> <img\nsrc=https://www.kaggle.com/static/images/site-logo.png\nalt='Kaggle'> <br> Create an API token from <a\nhref=\"https://www.kaggle.com/settings/account\" target=\"_blank\">your Kaggle\nsettings page</a> and paste it below along with your Kaggle username. <br> </center>"
          }
        },
        "bd4c9cb5d6e243c090a061465ee7c171": {
          "model_module": "@jupyter-widgets/controls",
          "model_name": "TextModel",
          "model_module_version": "1.5.0",
          "state": {
            "_dom_classes": [],
            "_model_module": "@jupyter-widgets/controls",
            "_model_module_version": "1.5.0",
            "_model_name": "TextModel",
            "_view_count": null,
            "_view_module": "@jupyter-widgets/controls",
            "_view_module_version": "1.5.0",
            "_view_name": "TextView",
            "continuous_update": true,
            "description": "Username:",
            "description_tooltip": null,
            "disabled": false,
            "layout": "IPY_MODEL_2b702fc9bfb4468fbdd863636da4fe69",
            "placeholder": "​",
            "style": "IPY_MODEL_e95cda0a9a28474bad02f517b6c60b5a",
            "value": "johny101"
          }
        },
        "b84bb647a2b74d489266420be6320f22": {
          "model_module": "@jupyter-widgets/controls",
          "model_name": "PasswordModel",
          "model_module_version": "1.5.0",
          "state": {
            "_dom_classes": [],
            "_model_module": "@jupyter-widgets/controls",
            "_model_module_version": "1.5.0",
            "_model_name": "PasswordModel",
            "_view_count": null,
            "_view_module": "@jupyter-widgets/controls",
            "_view_module_version": "1.5.0",
            "_view_name": "PasswordView",
            "continuous_update": true,
            "description": "Token:",
            "description_tooltip": null,
            "disabled": false,
            "layout": "IPY_MODEL_dcf2c54404e04090b6d91c4418bab275",
            "placeholder": "​",
            "style": "IPY_MODEL_1c59f2498c774f4aa71e46b42752c9be",
            "value": ""
          }
        },
        "7112f0834ad9439a9ab1b12f44c92b95": {
          "model_module": "@jupyter-widgets/controls",
          "model_name": "ButtonModel",
          "model_module_version": "1.5.0",
          "state": {
            "_dom_classes": [],
            "_model_module": "@jupyter-widgets/controls",
            "_model_module_version": "1.5.0",
            "_model_name": "ButtonModel",
            "_view_count": null,
            "_view_module": "@jupyter-widgets/controls",
            "_view_module_version": "1.5.0",
            "_view_name": "ButtonView",
            "button_style": "",
            "description": "Login",
            "disabled": false,
            "icon": "",
            "layout": "IPY_MODEL_9d92292faab04198a30ac899b1fc6590",
            "style": "IPY_MODEL_76038d69408e41a082e187b22468a5a7",
            "tooltip": ""
          }
        },
        "5337a43e82cd499590c32c41f2cf8621": {
          "model_module": "@jupyter-widgets/controls",
          "model_name": "HTMLModel",
          "model_module_version": "1.5.0",
          "state": {
            "_dom_classes": [],
            "_model_module": "@jupyter-widgets/controls",
            "_model_module_version": "1.5.0",
            "_model_name": "HTMLModel",
            "_view_count": null,
            "_view_module": "@jupyter-widgets/controls",
            "_view_module_version": "1.5.0",
            "_view_name": "HTMLView",
            "description": "",
            "description_tooltip": null,
            "layout": "IPY_MODEL_ede579207f304b70956b77a1dbfaec3b",
            "placeholder": "​",
            "style": "IPY_MODEL_862ec89e003e4e4d965d99a737d2b2be",
            "value": "\n<b>Thank You</b></center>"
          }
        },
        "70c59dfc145b4245ae9bd58ea6f8e13e": {
          "model_module": "@jupyter-widgets/base",
          "model_name": "LayoutModel",
          "model_module_version": "1.2.0",
          "state": {
            "_model_module": "@jupyter-widgets/base",
            "_model_module_version": "1.2.0",
            "_model_name": "LayoutModel",
            "_view_count": null,
            "_view_module": "@jupyter-widgets/base",
            "_view_module_version": "1.2.0",
            "_view_name": "LayoutView",
            "align_content": null,
            "align_items": "center",
            "align_self": null,
            "border": null,
            "bottom": null,
            "display": "flex",
            "flex": null,
            "flex_flow": "column",
            "grid_area": null,
            "grid_auto_columns": null,
            "grid_auto_flow": null,
            "grid_auto_rows": null,
            "grid_column": null,
            "grid_gap": null,
            "grid_row": null,
            "grid_template_areas": null,
            "grid_template_columns": null,
            "grid_template_rows": null,
            "height": null,
            "justify_content": null,
            "justify_items": null,
            "left": null,
            "margin": null,
            "max_height": null,
            "max_width": null,
            "min_height": null,
            "min_width": null,
            "object_fit": null,
            "object_position": null,
            "order": null,
            "overflow": null,
            "overflow_x": null,
            "overflow_y": null,
            "padding": null,
            "right": null,
            "top": null,
            "visibility": null,
            "width": "50%"
          }
        },
        "0680a59aa0774bc1a02d8f5db967927b": {
          "model_module": "@jupyter-widgets/base",
          "model_name": "LayoutModel",
          "model_module_version": "1.2.0",
          "state": {
            "_model_module": "@jupyter-widgets/base",
            "_model_module_version": "1.2.0",
            "_model_name": "LayoutModel",
            "_view_count": null,
            "_view_module": "@jupyter-widgets/base",
            "_view_module_version": "1.2.0",
            "_view_name": "LayoutView",
            "align_content": null,
            "align_items": null,
            "align_self": null,
            "border": null,
            "bottom": null,
            "display": null,
            "flex": null,
            "flex_flow": null,
            "grid_area": null,
            "grid_auto_columns": null,
            "grid_auto_flow": null,
            "grid_auto_rows": null,
            "grid_column": null,
            "grid_gap": null,
            "grid_row": null,
            "grid_template_areas": null,
            "grid_template_columns": null,
            "grid_template_rows": null,
            "height": null,
            "justify_content": null,
            "justify_items": null,
            "left": null,
            "margin": null,
            "max_height": null,
            "max_width": null,
            "min_height": null,
            "min_width": null,
            "object_fit": null,
            "object_position": null,
            "order": null,
            "overflow": null,
            "overflow_x": null,
            "overflow_y": null,
            "padding": null,
            "right": null,
            "top": null,
            "visibility": null,
            "width": null
          }
        },
        "8a7aa8f982b346ad8e5a785cc0a5fd93": {
          "model_module": "@jupyter-widgets/controls",
          "model_name": "DescriptionStyleModel",
          "model_module_version": "1.5.0",
          "state": {
            "_model_module": "@jupyter-widgets/controls",
            "_model_module_version": "1.5.0",
            "_model_name": "DescriptionStyleModel",
            "_view_count": null,
            "_view_module": "@jupyter-widgets/base",
            "_view_module_version": "1.2.0",
            "_view_name": "StyleView",
            "description_width": ""
          }
        },
        "2b702fc9bfb4468fbdd863636da4fe69": {
          "model_module": "@jupyter-widgets/base",
          "model_name": "LayoutModel",
          "model_module_version": "1.2.0",
          "state": {
            "_model_module": "@jupyter-widgets/base",
            "_model_module_version": "1.2.0",
            "_model_name": "LayoutModel",
            "_view_count": null,
            "_view_module": "@jupyter-widgets/base",
            "_view_module_version": "1.2.0",
            "_view_name": "LayoutView",
            "align_content": null,
            "align_items": null,
            "align_self": null,
            "border": null,
            "bottom": null,
            "display": null,
            "flex": null,
            "flex_flow": null,
            "grid_area": null,
            "grid_auto_columns": null,
            "grid_auto_flow": null,
            "grid_auto_rows": null,
            "grid_column": null,
            "grid_gap": null,
            "grid_row": null,
            "grid_template_areas": null,
            "grid_template_columns": null,
            "grid_template_rows": null,
            "height": null,
            "justify_content": null,
            "justify_items": null,
            "left": null,
            "margin": null,
            "max_height": null,
            "max_width": null,
            "min_height": null,
            "min_width": null,
            "object_fit": null,
            "object_position": null,
            "order": null,
            "overflow": null,
            "overflow_x": null,
            "overflow_y": null,
            "padding": null,
            "right": null,
            "top": null,
            "visibility": null,
            "width": null
          }
        },
        "e95cda0a9a28474bad02f517b6c60b5a": {
          "model_module": "@jupyter-widgets/controls",
          "model_name": "DescriptionStyleModel",
          "model_module_version": "1.5.0",
          "state": {
            "_model_module": "@jupyter-widgets/controls",
            "_model_module_version": "1.5.0",
            "_model_name": "DescriptionStyleModel",
            "_view_count": null,
            "_view_module": "@jupyter-widgets/base",
            "_view_module_version": "1.2.0",
            "_view_name": "StyleView",
            "description_width": ""
          }
        },
        "dcf2c54404e04090b6d91c4418bab275": {
          "model_module": "@jupyter-widgets/base",
          "model_name": "LayoutModel",
          "model_module_version": "1.2.0",
          "state": {
            "_model_module": "@jupyter-widgets/base",
            "_model_module_version": "1.2.0",
            "_model_name": "LayoutModel",
            "_view_count": null,
            "_view_module": "@jupyter-widgets/base",
            "_view_module_version": "1.2.0",
            "_view_name": "LayoutView",
            "align_content": null,
            "align_items": null,
            "align_self": null,
            "border": null,
            "bottom": null,
            "display": null,
            "flex": null,
            "flex_flow": null,
            "grid_area": null,
            "grid_auto_columns": null,
            "grid_auto_flow": null,
            "grid_auto_rows": null,
            "grid_column": null,
            "grid_gap": null,
            "grid_row": null,
            "grid_template_areas": null,
            "grid_template_columns": null,
            "grid_template_rows": null,
            "height": null,
            "justify_content": null,
            "justify_items": null,
            "left": null,
            "margin": null,
            "max_height": null,
            "max_width": null,
            "min_height": null,
            "min_width": null,
            "object_fit": null,
            "object_position": null,
            "order": null,
            "overflow": null,
            "overflow_x": null,
            "overflow_y": null,
            "padding": null,
            "right": null,
            "top": null,
            "visibility": null,
            "width": null
          }
        },
        "1c59f2498c774f4aa71e46b42752c9be": {
          "model_module": "@jupyter-widgets/controls",
          "model_name": "DescriptionStyleModel",
          "model_module_version": "1.5.0",
          "state": {
            "_model_module": "@jupyter-widgets/controls",
            "_model_module_version": "1.5.0",
            "_model_name": "DescriptionStyleModel",
            "_view_count": null,
            "_view_module": "@jupyter-widgets/base",
            "_view_module_version": "1.2.0",
            "_view_name": "StyleView",
            "description_width": ""
          }
        },
        "9d92292faab04198a30ac899b1fc6590": {
          "model_module": "@jupyter-widgets/base",
          "model_name": "LayoutModel",
          "model_module_version": "1.2.0",
          "state": {
            "_model_module": "@jupyter-widgets/base",
            "_model_module_version": "1.2.0",
            "_model_name": "LayoutModel",
            "_view_count": null,
            "_view_module": "@jupyter-widgets/base",
            "_view_module_version": "1.2.0",
            "_view_name": "LayoutView",
            "align_content": null,
            "align_items": null,
            "align_self": null,
            "border": null,
            "bottom": null,
            "display": null,
            "flex": null,
            "flex_flow": null,
            "grid_area": null,
            "grid_auto_columns": null,
            "grid_auto_flow": null,
            "grid_auto_rows": null,
            "grid_column": null,
            "grid_gap": null,
            "grid_row": null,
            "grid_template_areas": null,
            "grid_template_columns": null,
            "grid_template_rows": null,
            "height": null,
            "justify_content": null,
            "justify_items": null,
            "left": null,
            "margin": null,
            "max_height": null,
            "max_width": null,
            "min_height": null,
            "min_width": null,
            "object_fit": null,
            "object_position": null,
            "order": null,
            "overflow": null,
            "overflow_x": null,
            "overflow_y": null,
            "padding": null,
            "right": null,
            "top": null,
            "visibility": null,
            "width": null
          }
        },
        "76038d69408e41a082e187b22468a5a7": {
          "model_module": "@jupyter-widgets/controls",
          "model_name": "ButtonStyleModel",
          "model_module_version": "1.5.0",
          "state": {
            "_model_module": "@jupyter-widgets/controls",
            "_model_module_version": "1.5.0",
            "_model_name": "ButtonStyleModel",
            "_view_count": null,
            "_view_module": "@jupyter-widgets/base",
            "_view_module_version": "1.2.0",
            "_view_name": "StyleView",
            "button_color": null,
            "font_weight": ""
          }
        },
        "ede579207f304b70956b77a1dbfaec3b": {
          "model_module": "@jupyter-widgets/base",
          "model_name": "LayoutModel",
          "model_module_version": "1.2.0",
          "state": {
            "_model_module": "@jupyter-widgets/base",
            "_model_module_version": "1.2.0",
            "_model_name": "LayoutModel",
            "_view_count": null,
            "_view_module": "@jupyter-widgets/base",
            "_view_module_version": "1.2.0",
            "_view_name": "LayoutView",
            "align_content": null,
            "align_items": null,
            "align_self": null,
            "border": null,
            "bottom": null,
            "display": null,
            "flex": null,
            "flex_flow": null,
            "grid_area": null,
            "grid_auto_columns": null,
            "grid_auto_flow": null,
            "grid_auto_rows": null,
            "grid_column": null,
            "grid_gap": null,
            "grid_row": null,
            "grid_template_areas": null,
            "grid_template_columns": null,
            "grid_template_rows": null,
            "height": null,
            "justify_content": null,
            "justify_items": null,
            "left": null,
            "margin": null,
            "max_height": null,
            "max_width": null,
            "min_height": null,
            "min_width": null,
            "object_fit": null,
            "object_position": null,
            "order": null,
            "overflow": null,
            "overflow_x": null,
            "overflow_y": null,
            "padding": null,
            "right": null,
            "top": null,
            "visibility": null,
            "width": null
          }
        },
        "862ec89e003e4e4d965d99a737d2b2be": {
          "model_module": "@jupyter-widgets/controls",
          "model_name": "DescriptionStyleModel",
          "model_module_version": "1.5.0",
          "state": {
            "_model_module": "@jupyter-widgets/controls",
            "_model_module_version": "1.5.0",
            "_model_name": "DescriptionStyleModel",
            "_view_count": null,
            "_view_module": "@jupyter-widgets/base",
            "_view_module_version": "1.2.0",
            "_view_name": "StyleView",
            "description_width": ""
          }
        },
        "ebbe3befbdc74ab0b9cb2ba78b53afe9": {
          "model_module": "@jupyter-widgets/controls",
          "model_name": "LabelModel",
          "model_module_version": "1.5.0",
          "state": {
            "_dom_classes": [],
            "_model_module": "@jupyter-widgets/controls",
            "_model_module_version": "1.5.0",
            "_model_name": "LabelModel",
            "_view_count": null,
            "_view_module": "@jupyter-widgets/controls",
            "_view_module_version": "1.5.0",
            "_view_name": "LabelView",
            "description": "",
            "description_tooltip": null,
            "layout": "IPY_MODEL_92f97043700b4376a9c871bfb9625ac0",
            "placeholder": "​",
            "style": "IPY_MODEL_38c6ebbb548a4c45bf3efa2d91adbcf2",
            "value": "Connecting..."
          }
        },
        "92f97043700b4376a9c871bfb9625ac0": {
          "model_module": "@jupyter-widgets/base",
          "model_name": "LayoutModel",
          "model_module_version": "1.2.0",
          "state": {
            "_model_module": "@jupyter-widgets/base",
            "_model_module_version": "1.2.0",
            "_model_name": "LayoutModel",
            "_view_count": null,
            "_view_module": "@jupyter-widgets/base",
            "_view_module_version": "1.2.0",
            "_view_name": "LayoutView",
            "align_content": null,
            "align_items": null,
            "align_self": null,
            "border": null,
            "bottom": null,
            "display": null,
            "flex": null,
            "flex_flow": null,
            "grid_area": null,
            "grid_auto_columns": null,
            "grid_auto_flow": null,
            "grid_auto_rows": null,
            "grid_column": null,
            "grid_gap": null,
            "grid_row": null,
            "grid_template_areas": null,
            "grid_template_columns": null,
            "grid_template_rows": null,
            "height": null,
            "justify_content": null,
            "justify_items": null,
            "left": null,
            "margin": null,
            "max_height": null,
            "max_width": null,
            "min_height": null,
            "min_width": null,
            "object_fit": null,
            "object_position": null,
            "order": null,
            "overflow": null,
            "overflow_x": null,
            "overflow_y": null,
            "padding": null,
            "right": null,
            "top": null,
            "visibility": null,
            "width": null
          }
        },
        "38c6ebbb548a4c45bf3efa2d91adbcf2": {
          "model_module": "@jupyter-widgets/controls",
          "model_name": "DescriptionStyleModel",
          "model_module_version": "1.5.0",
          "state": {
            "_model_module": "@jupyter-widgets/controls",
            "_model_module_version": "1.5.0",
            "_model_name": "DescriptionStyleModel",
            "_view_count": null,
            "_view_module": "@jupyter-widgets/base",
            "_view_module_version": "1.2.0",
            "_view_name": "StyleView",
            "description_width": ""
          }
        },
        "8e3a6ecd79794ac9a55620ca393542f6": {
          "model_module": "@jupyter-widgets/controls",
          "model_name": "LabelModel",
          "model_module_version": "1.5.0",
          "state": {
            "_dom_classes": [],
            "_model_module": "@jupyter-widgets/controls",
            "_model_module_version": "1.5.0",
            "_model_name": "LabelModel",
            "_view_count": null,
            "_view_module": "@jupyter-widgets/controls",
            "_view_module_version": "1.5.0",
            "_view_name": "LabelView",
            "description": "",
            "description_tooltip": null,
            "layout": "IPY_MODEL_4aab7fbf476045fd8b3787e155362fd9",
            "placeholder": "​",
            "style": "IPY_MODEL_e36c0939c15d46b7a55cdcafc1e50cee",
            "value": "Kaggle credentials successfully validated."
          }
        },
        "4aab7fbf476045fd8b3787e155362fd9": {
          "model_module": "@jupyter-widgets/base",
          "model_name": "LayoutModel",
          "model_module_version": "1.2.0",
          "state": {
            "_model_module": "@jupyter-widgets/base",
            "_model_module_version": "1.2.0",
            "_model_name": "LayoutModel",
            "_view_count": null,
            "_view_module": "@jupyter-widgets/base",
            "_view_module_version": "1.2.0",
            "_view_name": "LayoutView",
            "align_content": null,
            "align_items": null,
            "align_self": null,
            "border": null,
            "bottom": null,
            "display": null,
            "flex": null,
            "flex_flow": null,
            "grid_area": null,
            "grid_auto_columns": null,
            "grid_auto_flow": null,
            "grid_auto_rows": null,
            "grid_column": null,
            "grid_gap": null,
            "grid_row": null,
            "grid_template_areas": null,
            "grid_template_columns": null,
            "grid_template_rows": null,
            "height": null,
            "justify_content": null,
            "justify_items": null,
            "left": null,
            "margin": null,
            "max_height": null,
            "max_width": null,
            "min_height": null,
            "min_width": null,
            "object_fit": null,
            "object_position": null,
            "order": null,
            "overflow": null,
            "overflow_x": null,
            "overflow_y": null,
            "padding": null,
            "right": null,
            "top": null,
            "visibility": null,
            "width": null
          }
        },
        "e36c0939c15d46b7a55cdcafc1e50cee": {
          "model_module": "@jupyter-widgets/controls",
          "model_name": "DescriptionStyleModel",
          "model_module_version": "1.5.0",
          "state": {
            "_model_module": "@jupyter-widgets/controls",
            "_model_module_version": "1.5.0",
            "_model_name": "DescriptionStyleModel",
            "_view_count": null,
            "_view_module": "@jupyter-widgets/base",
            "_view_module_version": "1.2.0",
            "_view_name": "StyleView",
            "description_width": ""
          }
        }
      }
    }
  },
  "nbformat": 4,
  "nbformat_minor": 0
}